{
  "nbformat": 4,
  "nbformat_minor": 0,
  "metadata": {
    "colab": {
      "provenance": [],
      "include_colab_link": true
    },
    "kernelspec": {
      "name": "python3",
      "display_name": "Python 3"
    },
    "language_info": {
      "name": "python"
    },
    "accelerator": "GPU",
    "gpuClass": "standard"
  },
  "cells": [
    {
      "cell_type": "markdown",
      "metadata": {
        "id": "view-in-github",
        "colab_type": "text"
      },
      "source": [
        "<a href=\"https://colab.research.google.com/github/x3920/-/blob/main/VisualChatGPT.ipynb\" target=\"_parent\"><img src=\"https://colab.research.google.com/assets/colab-badge.svg\" alt=\"Open In Colab\"/></a>"
      ]
    },
    {
      "cell_type": "code",
      "source": [
        "!rm -rf visual-chatgpt && git clone https://github.com/microsoft/visual-chatgpt"
      ],
      "metadata": {
        "colab": {
          "base_uri": "https://localhost:8080/"
        },
        "id": "Q4YQZaD3xI6y",
        "outputId": "c28c0866-93d9-469b-9232-14857a344a86"
      },
      "execution_count": null,
      "outputs": [
        {
          "output_type": "stream",
          "name": "stdout",
          "text": [
            "Cloning into 'visual-chatgpt'...\n",
            "remote: Enumerating objects: 102, done.\u001b[K\n",
            "remote: Total 102 (delta 0), reused 0 (delta 0), pack-reused 102\u001b[K\n",
            "Receiving objects: 100% (102/102), 6.13 MiB | 20.73 MiB/s, done.\n",
            "Resolving deltas: 100% (49/49), done.\n"
          ]
        }
      ]
    },
    {
      "cell_type": "markdown",
      "source": [
        "Go to directory\n"
      ],
      "metadata": {
        "id": "AWVD0IoQX0Dk"
      }
    },
    {
      "cell_type": "code",
      "source": [
        "cd visual-chatgpt/"
      ],
      "metadata": {
        "colab": {
          "base_uri": "https://localhost:8080/"
        },
        "id": "RAOzak8IXwXZ",
        "outputId": "a195958d-4a92-4c23-8759-15f144666809"
      },
      "execution_count": null,
      "outputs": [
        {
          "output_type": "stream",
          "name": "stdout",
          "text": [
            "/content/visual-chatgpt\n"
          ]
        }
      ]
    },
    {
      "cell_type": "markdown",
      "source": [
        "Download visual-chatgpt\n"
      ],
      "metadata": {
        "id": "yBlt2jfzmE3O"
      }
    },
    {
      "cell_type": "markdown",
      "source": [
        "Install packages\n"
      ],
      "metadata": {
        "id": "kC9nZrM-61c6"
      }
    },
    {
      "cell_type": "code",
      "source": [
        "!pip install -r requirements.txt"
      ],
      "metadata": {
        "colab": {
          "base_uri": "https://localhost:8080/"
        },
        "id": "Blq5fIEizcnv",
        "outputId": "046edc4b-4cbe-4f1d-9dd9-69d5d6c310bb"
      },
      "execution_count": null,
      "outputs": [
        {
          "output_type": "stream",
          "name": "stdout",
          "text": [
            "Looking in indexes: https://pypi.org/simple, https://us-python.pkg.dev/colab-wheels/public/simple/\n",
            "Requirement already satisfied: langchain==0.0.101 in /usr/local/lib/python3.9/dist-packages (from -r requirements.txt (line 1)) (0.0.101)\n",
            "Requirement already satisfied: torch==1.12.1 in /usr/local/lib/python3.9/dist-packages (from -r requirements.txt (line 2)) (1.12.1)\n",
            "Requirement already satisfied: torchvision==0.13.1 in /usr/local/lib/python3.9/dist-packages (from -r requirements.txt (line 3)) (0.13.1)\n",
            "Requirement already satisfied: gradio==3.20.1 in /usr/local/lib/python3.9/dist-packages (from -r requirements.txt (line 4)) (3.20.1)\n",
            "Requirement already satisfied: accelerate in /usr/local/lib/python3.9/dist-packages (from -r requirements.txt (line 5)) (0.17.1)\n",
            "Requirement already satisfied: addict in /usr/local/lib/python3.9/dist-packages (from -r requirements.txt (line 6)) (2.4.0)\n",
            "Requirement already satisfied: albumentations in /usr/local/lib/python3.9/dist-packages (from -r requirements.txt (line 7)) (1.2.1)\n",
            "Requirement already satisfied: basicsr in /usr/local/lib/python3.9/dist-packages (from -r requirements.txt (line 8)) (1.4.2)\n",
            "Requirement already satisfied: controlnet-aux in /usr/local/lib/python3.9/dist-packages (from -r requirements.txt (line 9)) (0.0.1)\n",
            "Requirement already satisfied: diffusers in /usr/local/lib/python3.9/dist-packages (from -r requirements.txt (line 10)) (0.14.0)\n",
            "Requirement already satisfied: einops in /usr/local/lib/python3.9/dist-packages (from -r requirements.txt (line 11)) (0.6.0)\n",
            "Requirement already satisfied: imageio in /usr/local/lib/python3.9/dist-packages (from -r requirements.txt (line 12)) (2.9.0)\n",
            "Requirement already satisfied: imageio-ffmpeg in /usr/local/lib/python3.9/dist-packages (from -r requirements.txt (line 13)) (0.4.8)\n",
            "Requirement already satisfied: invisible-watermark in /usr/local/lib/python3.9/dist-packages (from -r requirements.txt (line 14)) (0.1.5)\n",
            "Requirement already satisfied: kornia in /usr/local/lib/python3.9/dist-packages (from -r requirements.txt (line 15)) (0.6.10)\n",
            "Requirement already satisfied: numpy in /usr/local/lib/python3.9/dist-packages (from -r requirements.txt (line 16)) (1.22.4)\n",
            "Requirement already satisfied: omegaconf in /usr/local/lib/python3.9/dist-packages (from -r requirements.txt (line 17)) (2.3.0)\n",
            "Requirement already satisfied: open_clip_torch in /usr/local/lib/python3.9/dist-packages (from -r requirements.txt (line 18)) (2.16.0)\n",
            "Requirement already satisfied: openai in /usr/local/lib/python3.9/dist-packages (from -r requirements.txt (line 19)) (0.27.2)\n",
            "Requirement already satisfied: opencv-python in /usr/local/lib/python3.9/dist-packages (from -r requirements.txt (line 20)) (4.6.0.66)\n",
            "Requirement already satisfied: prettytable in /usr/local/lib/python3.9/dist-packages (from -r requirements.txt (line 21)) (3.6.0)\n",
            "Requirement already satisfied: safetensors in /usr/local/lib/python3.9/dist-packages (from -r requirements.txt (line 22)) (0.3.0)\n",
            "Requirement already satisfied: streamlit in /usr/local/lib/python3.9/dist-packages (from -r requirements.txt (line 23)) (1.20.0)\n",
            "Requirement already satisfied: test-tube in /usr/local/lib/python3.9/dist-packages (from -r requirements.txt (line 24)) (0.7.5)\n",
            "Requirement already satisfied: timm in /usr/local/lib/python3.9/dist-packages (from -r requirements.txt (line 25)) (0.6.12)\n",
            "Requirement already satisfied: torchmetrics in /usr/local/lib/python3.9/dist-packages (from -r requirements.txt (line 26)) (0.11.4)\n",
            "Requirement already satisfied: transformers in /usr/local/lib/python3.9/dist-packages (from -r requirements.txt (line 27)) (4.26.1)\n",
            "Requirement already satisfied: webdataset in /usr/local/lib/python3.9/dist-packages (from -r requirements.txt (line 28)) (0.2.43)\n",
            "Requirement already satisfied: yapf in /usr/local/lib/python3.9/dist-packages (from -r requirements.txt (line 29)) (0.32.0)\n",
            "Requirement already satisfied: pydantic<2,>=1 in /usr/local/lib/python3.9/dist-packages (from langchain==0.0.101->-r requirements.txt (line 1)) (1.10.6)\n",
            "Requirement already satisfied: PyYAML<7,>=6 in /usr/local/lib/python3.9/dist-packages (from langchain==0.0.101->-r requirements.txt (line 1)) (6.0)\n",
            "Requirement already satisfied: requests<3,>=2 in /usr/local/lib/python3.9/dist-packages (from langchain==0.0.101->-r requirements.txt (line 1)) (2.25.1)\n",
            "Requirement already satisfied: tenacity<9.0.0,>=8.1.0 in /usr/local/lib/python3.9/dist-packages (from langchain==0.0.101->-r requirements.txt (line 1)) (8.2.2)\n",
            "Requirement already satisfied: dataclasses-json<0.6.0,>=0.5.7 in /usr/local/lib/python3.9/dist-packages (from langchain==0.0.101->-r requirements.txt (line 1)) (0.5.7)\n",
            "Requirement already satisfied: aiohttp<4.0.0,>=3.8.3 in /usr/local/lib/python3.9/dist-packages (from langchain==0.0.101->-r requirements.txt (line 1)) (3.8.4)\n",
            "Requirement already satisfied: SQLAlchemy<2,>=1 in /usr/local/lib/python3.9/dist-packages (from langchain==0.0.101->-r requirements.txt (line 1)) (1.4.46)\n",
            "Requirement already satisfied: typing-extensions in /usr/local/lib/python3.9/dist-packages (from torch==1.12.1->-r requirements.txt (line 2)) (4.5.0)\n",
            "Requirement already satisfied: pillow!=8.3.*,>=5.3.0 in /usr/local/lib/python3.9/dist-packages (from torchvision==0.13.1->-r requirements.txt (line 3)) (8.4.0)\n",
            "Requirement already satisfied: fsspec in /usr/local/lib/python3.9/dist-packages (from gradio==3.20.1->-r requirements.txt (line 4)) (2023.3.0)\n",
            "Requirement already satisfied: pandas in /usr/local/lib/python3.9/dist-packages (from gradio==3.20.1->-r requirements.txt (line 4)) (1.4.4)\n",
            "Requirement already satisfied: matplotlib in /usr/local/lib/python3.9/dist-packages (from gradio==3.20.1->-r requirements.txt (line 4)) (3.5.3)\n",
            "Requirement already satisfied: altair>=4.2.0 in /usr/local/lib/python3.9/dist-packages (from gradio==3.20.1->-r requirements.txt (line 4)) (4.2.2)\n",
            "Requirement already satisfied: orjson in /usr/local/lib/python3.9/dist-packages (from gradio==3.20.1->-r requirements.txt (line 4)) (3.8.7)\n",
            "Requirement already satisfied: markupsafe in /usr/local/lib/python3.9/dist-packages (from gradio==3.20.1->-r requirements.txt (line 4)) (2.1.2)\n",
            "Requirement already satisfied: python-multipart in /usr/local/lib/python3.9/dist-packages (from gradio==3.20.1->-r requirements.txt (line 4)) (0.0.6)\n",
            "Requirement already satisfied: mdit-py-plugins<=0.3.3 in /usr/local/lib/python3.9/dist-packages (from gradio==3.20.1->-r requirements.txt (line 4)) (0.3.3)\n",
            "Requirement already satisfied: pydub in /usr/local/lib/python3.9/dist-packages (from gradio==3.20.1->-r requirements.txt (line 4)) (0.25.1)\n",
            "Requirement already satisfied: uvicorn in /usr/local/lib/python3.9/dist-packages (from gradio==3.20.1->-r requirements.txt (line 4)) (0.21.0)\n",
            "Requirement already satisfied: fastapi in /usr/local/lib/python3.9/dist-packages (from gradio==3.20.1->-r requirements.txt (line 4)) (0.94.1)\n",
            "Requirement already satisfied: httpx in /usr/local/lib/python3.9/dist-packages (from gradio==3.20.1->-r requirements.txt (line 4)) (0.23.3)\n",
            "Requirement already satisfied: ffmpy in /usr/local/lib/python3.9/dist-packages (from gradio==3.20.1->-r requirements.txt (line 4)) (0.3.0)\n",
            "Requirement already satisfied: websockets>=10.0 in /usr/local/lib/python3.9/dist-packages (from gradio==3.20.1->-r requirements.txt (line 4)) (10.4)\n",
            "Requirement already satisfied: markdown-it-py[linkify]>=2.0.0 in /usr/local/lib/python3.9/dist-packages (from gradio==3.20.1->-r requirements.txt (line 4)) (2.2.0)\n",
            "Requirement already satisfied: pycryptodome in /usr/local/lib/python3.9/dist-packages (from gradio==3.20.1->-r requirements.txt (line 4)) (3.17)\n",
            "Requirement already satisfied: aiofiles in /usr/local/lib/python3.9/dist-packages (from gradio==3.20.1->-r requirements.txt (line 4)) (23.1.0)\n",
            "Requirement already satisfied: jinja2 in /usr/local/lib/python3.9/dist-packages (from gradio==3.20.1->-r requirements.txt (line 4)) (3.1.2)\n",
            "Requirement already satisfied: psutil in /usr/local/lib/python3.9/dist-packages (from accelerate->-r requirements.txt (line 5)) (5.4.8)\n",
            "Requirement already satisfied: packaging>=20.0 in /usr/local/lib/python3.9/dist-packages (from accelerate->-r requirements.txt (line 5)) (23.0)\n",
            "Requirement already satisfied: scikit-image>=0.16.1 in /usr/local/lib/python3.9/dist-packages (from albumentations->-r requirements.txt (line 7)) (0.19.3)\n",
            "Requirement already satisfied: opencv-python-headless>=4.1.1 in /usr/local/lib/python3.9/dist-packages (from albumentations->-r requirements.txt (line 7)) (4.7.0.72)\n",
            "Requirement already satisfied: scipy in /usr/local/lib/python3.9/dist-packages (from albumentations->-r requirements.txt (line 7)) (1.10.1)\n",
            "Requirement already satisfied: qudida>=0.0.4 in /usr/local/lib/python3.9/dist-packages (from albumentations->-r requirements.txt (line 7)) (0.0.4)\n",
            "Requirement already satisfied: lmdb in /usr/local/lib/python3.9/dist-packages (from basicsr->-r requirements.txt (line 8)) (1.4.0)\n",
            "Requirement already satisfied: tb-nightly in /usr/local/lib/python3.9/dist-packages (from basicsr->-r requirements.txt (line 8)) (2.12.0a20230126)\n",
            "Requirement already satisfied: tqdm in /usr/local/lib/python3.9/dist-packages (from basicsr->-r requirements.txt (line 8)) (4.65.0)\n",
            "Requirement already satisfied: future in /usr/local/lib/python3.9/dist-packages (from basicsr->-r requirements.txt (line 8)) (0.16.0)\n",
            "Requirement already satisfied: importlib-metadata in /usr/local/lib/python3.9/dist-packages (from controlnet-aux->-r requirements.txt (line 9)) (6.0.0)\n",
            "Requirement already satisfied: huggingface-hub in /usr/local/lib/python3.9/dist-packages (from controlnet-aux->-r requirements.txt (line 9)) (0.13.2)\n",
            "Requirement already satisfied: filelock in /usr/local/lib/python3.9/dist-packages (from controlnet-aux->-r requirements.txt (line 9)) (3.9.0)\n",
            "Requirement already satisfied: regex!=2019.12.17 in /usr/local/lib/python3.9/dist-packages (from diffusers->-r requirements.txt (line 10)) (2022.6.2)\n",
            "Requirement already satisfied: onnxruntime in /usr/local/lib/python3.9/dist-packages (from invisible-watermark->-r requirements.txt (line 14)) (1.14.1)\n",
            "Requirement already satisfied: PyWavelets>=1.1.1 in /usr/local/lib/python3.9/dist-packages (from invisible-watermark->-r requirements.txt (line 14)) (1.4.1)\n",
            "Requirement already satisfied: onnx in /usr/local/lib/python3.9/dist-packages (from invisible-watermark->-r requirements.txt (line 14)) (1.13.1)\n",
            "Requirement already satisfied: antlr4-python3-runtime==4.9.* in /usr/local/lib/python3.9/dist-packages (from omegaconf->-r requirements.txt (line 17)) (4.9.3)\n",
            "Requirement already satisfied: protobuf<4 in /usr/local/lib/python3.9/dist-packages (from open_clip_torch->-r requirements.txt (line 18)) (3.20.3)\n",
            "Requirement already satisfied: ftfy in /usr/local/lib/python3.9/dist-packages (from open_clip_torch->-r requirements.txt (line 18)) (6.1.1)\n",
            "Requirement already satisfied: sentencepiece in /usr/local/lib/python3.9/dist-packages (from open_clip_torch->-r requirements.txt (line 18)) (0.1.97)\n",
            "Requirement already satisfied: wcwidth in /usr/local/lib/python3.9/dist-packages (from prettytable->-r requirements.txt (line 21)) (0.2.6)\n",
            "Requirement already satisfied: validators>=0.2 in /usr/local/lib/python3.9/dist-packages (from streamlit->-r requirements.txt (line 23)) (0.20.0)\n",
            "Requirement already satisfied: toml in /usr/local/lib/python3.9/dist-packages (from streamlit->-r requirements.txt (line 23)) (0.10.2)\n",
            "Requirement already satisfied: gitpython!=3.1.19 in /usr/local/lib/python3.9/dist-packages (from streamlit->-r requirements.txt (line 23)) (3.1.31)\n",
            "Requirement already satisfied: python-dateutil in /usr/local/lib/python3.9/dist-packages (from streamlit->-r requirements.txt (line 23)) (2.8.2)\n",
            "Requirement already satisfied: semver in /usr/local/lib/python3.9/dist-packages (from streamlit->-r requirements.txt (line 23)) (2.13.0)\n",
            "Requirement already satisfied: blinker>=1.0.0 in /usr/local/lib/python3.9/dist-packages (from streamlit->-r requirements.txt (line 23)) (1.5)\n",
            "Requirement already satisfied: pyarrow>=4.0 in /usr/local/lib/python3.9/dist-packages (from streamlit->-r requirements.txt (line 23)) (9.0.0)\n",
            "Requirement already satisfied: click>=7.0 in /usr/local/lib/python3.9/dist-packages (from streamlit->-r requirements.txt (line 23)) (8.1.3)\n",
            "Requirement already satisfied: tornado>=6.0.3 in /usr/local/lib/python3.9/dist-packages (from streamlit->-r requirements.txt (line 23)) (6.2)\n",
            "Requirement already satisfied: pympler>=0.9 in /usr/local/lib/python3.9/dist-packages (from streamlit->-r requirements.txt (line 23)) (1.0.1)\n",
            "Requirement already satisfied: tzlocal>=1.1 in /usr/local/lib/python3.9/dist-packages (from streamlit->-r requirements.txt (line 23)) (4.2)\n",
            "Requirement already satisfied: watchdog in /usr/local/lib/python3.9/dist-packages (from streamlit->-r requirements.txt (line 23)) (2.3.1)\n",
            "Requirement already satisfied: rich>=10.11.0 in /usr/local/lib/python3.9/dist-packages (from streamlit->-r requirements.txt (line 23)) (13.3.2)\n",
            "Requirement already satisfied: cachetools>=4.0 in /usr/local/lib/python3.9/dist-packages (from streamlit->-r requirements.txt (line 23)) (5.3.0)\n",
            "Requirement already satisfied: pydeck>=0.1.dev5 in /usr/local/lib/python3.9/dist-packages (from streamlit->-r requirements.txt (line 23)) (0.8.0)\n",
            "Requirement already satisfied: tensorboard>=1.15.0 in /usr/local/lib/python3.9/dist-packages (from test-tube->-r requirements.txt (line 24)) (2.11.2)\n",
            "Requirement already satisfied: tokenizers!=0.11.3,<0.14,>=0.11.1 in /usr/local/lib/python3.9/dist-packages (from transformers->-r requirements.txt (line 27)) (0.13.2)\n",
            "Requirement already satisfied: braceexpand in /usr/local/lib/python3.9/dist-packages (from webdataset->-r requirements.txt (line 28)) (0.1.7)\n",
            "Requirement already satisfied: async-timeout<5.0,>=4.0.0a3 in /usr/local/lib/python3.9/dist-packages (from aiohttp<4.0.0,>=3.8.3->langchain==0.0.101->-r requirements.txt (line 1)) (4.0.2)\n",
            "Requirement already satisfied: attrs>=17.3.0 in /usr/local/lib/python3.9/dist-packages (from aiohttp<4.0.0,>=3.8.3->langchain==0.0.101->-r requirements.txt (line 1)) (22.2.0)\n",
            "Requirement already satisfied: aiosignal>=1.1.2 in /usr/local/lib/python3.9/dist-packages (from aiohttp<4.0.0,>=3.8.3->langchain==0.0.101->-r requirements.txt (line 1)) (1.3.1)\n",
            "Requirement already satisfied: yarl<2.0,>=1.0 in /usr/local/lib/python3.9/dist-packages (from aiohttp<4.0.0,>=3.8.3->langchain==0.0.101->-r requirements.txt (line 1)) (1.8.2)\n",
            "Requirement already satisfied: charset-normalizer<4.0,>=2.0 in /usr/local/lib/python3.9/dist-packages (from aiohttp<4.0.0,>=3.8.3->langchain==0.0.101->-r requirements.txt (line 1)) (3.1.0)\n",
            "Requirement already satisfied: multidict<7.0,>=4.5 in /usr/local/lib/python3.9/dist-packages (from aiohttp<4.0.0,>=3.8.3->langchain==0.0.101->-r requirements.txt (line 1)) (6.0.4)\n",
            "Requirement already satisfied: frozenlist>=1.1.1 in /usr/local/lib/python3.9/dist-packages (from aiohttp<4.0.0,>=3.8.3->langchain==0.0.101->-r requirements.txt (line 1)) (1.3.3)\n",
            "Requirement already satisfied: toolz in /usr/local/lib/python3.9/dist-packages (from altair>=4.2.0->gradio==3.20.1->-r requirements.txt (line 4)) (0.12.0)\n",
            "Requirement already satisfied: jsonschema>=3.0 in /usr/local/lib/python3.9/dist-packages (from altair>=4.2.0->gradio==3.20.1->-r requirements.txt (line 4)) (4.3.3)\n",
            "Requirement already satisfied: entrypoints in /usr/local/lib/python3.9/dist-packages (from altair>=4.2.0->gradio==3.20.1->-r requirements.txt (line 4)) (0.4)\n",
            "Requirement already satisfied: marshmallow-enum<2.0.0,>=1.5.1 in /usr/local/lib/python3.9/dist-packages (from dataclasses-json<0.6.0,>=0.5.7->langchain==0.0.101->-r requirements.txt (line 1)) (1.5.1)\n",
            "Requirement already satisfied: typing-inspect>=0.4.0 in /usr/local/lib/python3.9/dist-packages (from dataclasses-json<0.6.0,>=0.5.7->langchain==0.0.101->-r requirements.txt (line 1)) (0.8.0)\n",
            "Requirement already satisfied: marshmallow<4.0.0,>=3.3.0 in /usr/local/lib/python3.9/dist-packages (from dataclasses-json<0.6.0,>=0.5.7->langchain==0.0.101->-r requirements.txt (line 1)) (3.19.0)\n",
            "Requirement already satisfied: gitdb<5,>=4.0.1 in /usr/local/lib/python3.9/dist-packages (from gitpython!=3.1.19->streamlit->-r requirements.txt (line 23)) (4.0.10)\n",
            "Requirement already satisfied: zipp>=0.5 in /usr/local/lib/python3.9/dist-packages (from importlib-metadata->controlnet-aux->-r requirements.txt (line 9)) (3.15.0)\n",
            "Requirement already satisfied: mdurl~=0.1 in /usr/local/lib/python3.9/dist-packages (from markdown-it-py[linkify]>=2.0.0->gradio==3.20.1->-r requirements.txt (line 4)) (0.1.2)\n",
            "Requirement already satisfied: linkify-it-py<3,>=1 in /usr/local/lib/python3.9/dist-packages (from markdown-it-py[linkify]>=2.0.0->gradio==3.20.1->-r requirements.txt (line 4)) (2.0.0)\n",
            "Requirement already satisfied: pytz>=2020.1 in /usr/local/lib/python3.9/dist-packages (from pandas->gradio==3.20.1->-r requirements.txt (line 4)) (2022.7.1)\n",
            "Requirement already satisfied: six>=1.5 in /usr/local/lib/python3.9/dist-packages (from python-dateutil->streamlit->-r requirements.txt (line 23)) (1.15.0)\n",
            "Requirement already satisfied: scikit-learn>=0.19.1 in /usr/local/lib/python3.9/dist-packages (from qudida>=0.0.4->albumentations->-r requirements.txt (line 7)) (1.2.2)\n",
            "Requirement already satisfied: certifi>=2017.4.17 in /usr/local/lib/python3.9/dist-packages (from requests<3,>=2->langchain==0.0.101->-r requirements.txt (line 1)) (2022.12.7)\n",
            "Requirement already satisfied: idna<3,>=2.5 in /usr/local/lib/python3.9/dist-packages (from requests<3,>=2->langchain==0.0.101->-r requirements.txt (line 1)) (2.10)\n",
            "Requirement already satisfied: chardet<5,>=3.0.2 in /usr/local/lib/python3.9/dist-packages (from requests<3,>=2->langchain==0.0.101->-r requirements.txt (line 1)) (4.0.0)\n",
            "Requirement already satisfied: urllib3<1.27,>=1.21.1 in /usr/local/lib/python3.9/dist-packages (from requests<3,>=2->langchain==0.0.101->-r requirements.txt (line 1)) (1.26.15)\n",
            "Requirement already satisfied: pygments<3.0.0,>=2.13.0 in /usr/local/lib/python3.9/dist-packages (from rich>=10.11.0->streamlit->-r requirements.txt (line 23)) (2.14.0)\n",
            "Requirement already satisfied: networkx>=2.2 in /usr/local/lib/python3.9/dist-packages (from scikit-image>=0.16.1->albumentations->-r requirements.txt (line 7)) (3.0)\n",
            "Requirement already satisfied: tifffile>=2019.7.26 in /usr/local/lib/python3.9/dist-packages (from scikit-image>=0.16.1->albumentations->-r requirements.txt (line 7)) (2023.2.28)\n",
            "Requirement already satisfied: greenlet!=0.4.17 in /usr/local/lib/python3.9/dist-packages (from SQLAlchemy<2,>=1->langchain==0.0.101->-r requirements.txt (line 1)) (2.0.2)\n",
            "Requirement already satisfied: google-auth<3,>=1.6.3 in /usr/local/lib/python3.9/dist-packages (from tensorboard>=1.15.0->test-tube->-r requirements.txt (line 24)) (2.16.2)\n",
            "Requirement already satisfied: setuptools>=41.0.0 in /usr/local/lib/python3.9/dist-packages (from tensorboard>=1.15.0->test-tube->-r requirements.txt (line 24)) (63.4.3)\n",
            "Requirement already satisfied: werkzeug>=1.0.1 in /usr/local/lib/python3.9/dist-packages (from tensorboard>=1.15.0->test-tube->-r requirements.txt (line 24)) (2.2.3)\n",
            "Requirement already satisfied: wheel>=0.26 in /usr/local/lib/python3.9/dist-packages (from tensorboard>=1.15.0->test-tube->-r requirements.txt (line 24)) (0.38.4)\n",
            "Requirement already satisfied: tensorboard-data-server<0.7.0,>=0.6.0 in /usr/local/lib/python3.9/dist-packages (from tensorboard>=1.15.0->test-tube->-r requirements.txt (line 24)) (0.6.1)\n",
            "Requirement already satisfied: tensorboard-plugin-wit>=1.6.0 in /usr/local/lib/python3.9/dist-packages (from tensorboard>=1.15.0->test-tube->-r requirements.txt (line 24)) (1.8.1)\n",
            "Requirement already satisfied: markdown>=2.6.8 in /usr/local/lib/python3.9/dist-packages (from tensorboard>=1.15.0->test-tube->-r requirements.txt (line 24)) (3.4.1)\n",
            "Requirement already satisfied: grpcio>=1.24.3 in /usr/local/lib/python3.9/dist-packages (from tensorboard>=1.15.0->test-tube->-r requirements.txt (line 24)) (1.51.3)\n",
            "Requirement already satisfied: google-auth-oauthlib<0.5,>=0.4.1 in /usr/local/lib/python3.9/dist-packages (from tensorboard>=1.15.0->test-tube->-r requirements.txt (line 24)) (0.4.6)\n",
            "Requirement already satisfied: absl-py>=0.4 in /usr/local/lib/python3.9/dist-packages (from tensorboard>=1.15.0->test-tube->-r requirements.txt (line 24)) (1.4.0)\n",
            "Requirement already satisfied: pytz-deprecation-shim in /usr/local/lib/python3.9/dist-packages (from tzlocal>=1.1->streamlit->-r requirements.txt (line 23)) (0.1.0.post0)\n",
            "Requirement already satisfied: decorator>=3.4.0 in /usr/local/lib/python3.9/dist-packages (from validators>=0.2->streamlit->-r requirements.txt (line 23)) (4.4.2)\n",
            "Requirement already satisfied: starlette<0.27.0,>=0.26.1 in /usr/local/lib/python3.9/dist-packages (from fastapi->gradio==3.20.1->-r requirements.txt (line 4)) (0.26.1)\n",
            "Requirement already satisfied: sniffio in /usr/local/lib/python3.9/dist-packages (from httpx->gradio==3.20.1->-r requirements.txt (line 4)) (1.3.0)\n",
            "Requirement already satisfied: rfc3986[idna2008]<2,>=1.3 in /usr/local/lib/python3.9/dist-packages (from httpx->gradio==3.20.1->-r requirements.txt (line 4)) (1.5.0)\n",
            "Requirement already satisfied: httpcore<0.17.0,>=0.15.0 in /usr/local/lib/python3.9/dist-packages (from httpx->gradio==3.20.1->-r requirements.txt (line 4)) (0.16.3)\n",
            "Requirement already satisfied: fonttools>=4.22.0 in /usr/local/lib/python3.9/dist-packages (from matplotlib->gradio==3.20.1->-r requirements.txt (line 4)) (4.39.0)\n",
            "Requirement already satisfied: cycler>=0.10 in /usr/local/lib/python3.9/dist-packages (from matplotlib->gradio==3.20.1->-r requirements.txt (line 4)) (0.11.0)\n",
            "Requirement already satisfied: kiwisolver>=1.0.1 in /usr/local/lib/python3.9/dist-packages (from matplotlib->gradio==3.20.1->-r requirements.txt (line 4)) (1.4.4)\n",
            "Requirement already satisfied: pyparsing>=2.2.1 in /usr/local/lib/python3.9/dist-packages (from matplotlib->gradio==3.20.1->-r requirements.txt (line 4)) (3.0.9)\n",
            "Requirement already satisfied: flatbuffers in /usr/local/lib/python3.9/dist-packages (from onnxruntime->invisible-watermark->-r requirements.txt (line 14)) (23.3.3)\n",
            "Requirement already satisfied: sympy in /usr/local/lib/python3.9/dist-packages (from onnxruntime->invisible-watermark->-r requirements.txt (line 14)) (1.7.1)\n",
            "Requirement already satisfied: coloredlogs in /usr/local/lib/python3.9/dist-packages (from onnxruntime->invisible-watermark->-r requirements.txt (line 14)) (15.0.1)\n",
            "Requirement already satisfied: h11>=0.8 in /usr/local/lib/python3.9/dist-packages (from uvicorn->gradio==3.20.1->-r requirements.txt (line 4)) (0.14.0)\n",
            "Requirement already satisfied: smmap<6,>=3.0.1 in /usr/local/lib/python3.9/dist-packages (from gitdb<5,>=4.0.1->gitpython!=3.1.19->streamlit->-r requirements.txt (line 23)) (5.0.0)\n",
            "Requirement already satisfied: pyasn1-modules>=0.2.1 in /usr/local/lib/python3.9/dist-packages (from google-auth<3,>=1.6.3->tensorboard>=1.15.0->test-tube->-r requirements.txt (line 24)) (0.2.8)\n",
            "Requirement already satisfied: rsa<5,>=3.1.4 in /usr/local/lib/python3.9/dist-packages (from google-auth<3,>=1.6.3->tensorboard>=1.15.0->test-tube->-r requirements.txt (line 24)) (4.9)\n",
            "Requirement already satisfied: requests-oauthlib>=0.7.0 in /usr/local/lib/python3.9/dist-packages (from google-auth-oauthlib<0.5,>=0.4.1->tensorboard>=1.15.0->test-tube->-r requirements.txt (line 24)) (1.3.1)\n",
            "Requirement already satisfied: anyio<5.0,>=3.0 in /usr/local/lib/python3.9/dist-packages (from httpcore<0.17.0,>=0.15.0->httpx->gradio==3.20.1->-r requirements.txt (line 4)) (3.6.2)\n",
            "Requirement already satisfied: pyrsistent!=0.17.0,!=0.17.1,!=0.17.2,>=0.14.0 in /usr/local/lib/python3.9/dist-packages (from jsonschema>=3.0->altair>=4.2.0->gradio==3.20.1->-r requirements.txt (line 4)) (0.19.3)\n",
            "Requirement already satisfied: uc-micro-py in /usr/local/lib/python3.9/dist-packages (from linkify-it-py<3,>=1->markdown-it-py[linkify]>=2.0.0->gradio==3.20.1->-r requirements.txt (line 4)) (1.0.1)\n",
            "Requirement already satisfied: joblib>=1.1.1 in /usr/local/lib/python3.9/dist-packages (from scikit-learn>=0.19.1->qudida>=0.0.4->albumentations->-r requirements.txt (line 7)) (1.1.1)\n",
            "Requirement already satisfied: threadpoolctl>=2.0.0 in /usr/local/lib/python3.9/dist-packages (from scikit-learn>=0.19.1->qudida>=0.0.4->albumentations->-r requirements.txt (line 7)) (3.1.0)\n",
            "Requirement already satisfied: mypy-extensions>=0.3.0 in /usr/local/lib/python3.9/dist-packages (from typing-inspect>=0.4.0->dataclasses-json<0.6.0,>=0.5.7->langchain==0.0.101->-r requirements.txt (line 1)) (1.0.0)\n",
            "Requirement already satisfied: humanfriendly>=9.1 in /usr/local/lib/python3.9/dist-packages (from coloredlogs->onnxruntime->invisible-watermark->-r requirements.txt (line 14)) (10.0)\n",
            "Requirement already satisfied: tzdata in /usr/local/lib/python3.9/dist-packages (from pytz-deprecation-shim->tzlocal>=1.1->streamlit->-r requirements.txt (line 23)) (2022.7)\n",
            "Requirement already satisfied: mpmath>=0.19 in /usr/local/lib/python3.9/dist-packages (from sympy->onnxruntime->invisible-watermark->-r requirements.txt (line 14)) (1.3.0)\n",
            "Requirement already satisfied: pyasn1<0.5.0,>=0.4.6 in /usr/local/lib/python3.9/dist-packages (from pyasn1-modules>=0.2.1->google-auth<3,>=1.6.3->tensorboard>=1.15.0->test-tube->-r requirements.txt (line 24)) (0.4.8)\n",
            "Requirement already satisfied: oauthlib>=3.0.0 in /usr/local/lib/python3.9/dist-packages (from requests-oauthlib>=0.7.0->google-auth-oauthlib<0.5,>=0.4.1->tensorboard>=1.15.0->test-tube->-r requirements.txt (line 24)) (3.2.2)\n"
          ]
        }
      ]
    },
    {
      "cell_type": "markdown",
      "source": [
        "Set your OPENAI_API_KEY\n"
      ],
      "metadata": {
        "id": "j4QdrPN-9Jyl"
      }
    },
    {
      "cell_type": "code",
      "source": [
        "%env OPENAI_API_KEY=your_key"
      ],
      "metadata": {
        "colab": {
          "base_uri": "https://localhost:8080/"
        },
        "id": "_F_Qv_qj5wd8",
        "outputId": "336b53f0-bbbd-4e5f-a09a-bbdaa234942f"
      },
      "execution_count": null,
      "outputs": [
        {
          "output_type": "stream",
          "name": "stdout",
          "text": [
            "env: OPENAI_API_KEY=your_key\n"
          ]
        }
      ]
    },
    {
      "cell_type": "markdown",
      "source": [
        "Import dependencies"
      ],
      "metadata": {
        "id": "ZuwRTOtqYYvB"
      }
    },
    {
      "cell_type": "code",
      "source": [
        "from visual_chatgpt import *"
      ],
      "metadata": {
        "id": "5Q3IQ37_BrBx"
      },
      "execution_count": null,
      "outputs": []
    },
    {
      "cell_type": "markdown",
      "source": [
        "Run VisualChatGPT"
      ],
      "metadata": {
        "id": "XRMUM7h47H6M"
      }
    },
    {
      "cell_type": "code",
      "source": [
        "# load = \"ImageCaptioning_cuda:0,Text2Image_cuda:0\"\n",
        "load = \"Text2Image_cuda:0,ImageCaptioning_cuda:0,VisualQuestionAnswering_cuda:0,Image2Canny_cpu,Image2Line_cpu,Image2Pose_cpu,Image2Depth_cpu,CannyText2Image_cuda:0,InstructPix2Pix_cuda:0,Image2Seg_cuda:0\"\n",
        "\n",
        "load_dict = {e.split('_')[0].strip(): e.split('_')[1].strip() for e in load.split(',')}\n",
        "bot = ConversationBot(load_dict=load_dict)\n",
        "with gr.Blocks(css=\"#chatbot .overflow-y-auto{height:500px}\") as demo:\n",
        "    chatbot = gr.Chatbot(elem_id=\"chatbot\", label=\"Visual ChatGPT\")\n",
        "    state = gr.State([])\n",
        "    with gr.Row():\n",
        "        with gr.Column(scale=0.7):\n",
        "            txt = gr.Textbox(show_label=False, placeholder=\"Enter text and press enter, or upload an image\").style(\n",
        "                container=False)\n",
        "        with gr.Column(scale=0.15, min_width=0):\n",
        "            clear = gr.Button(\"Clear️\")\n",
        "        with gr.Column(scale=0.15, min_width=0):\n",
        "            btn = gr.UploadButton(\"Upload\", file_types=[\"image\"])\n",
        "\n",
        "    txt.submit(bot.run_text, [txt, state], [chatbot, state])\n",
        "    txt.submit(lambda: \"\", None, txt)\n",
        "    btn.upload(bot.run_image, [btn, state, txt], [chatbot, state, txt])\n",
        "    clear.click(bot.memory.clear)\n",
        "    clear.click(lambda: [], None, chatbot)\n",
        "    clear.click(lambda: [], None, state)\n",
        "    demo.launch(server_name=\"0.0.0.0\", server_port=7861, share=True, debug=True)"
      ],
      "metadata": {
        "id": "8nCGkaV0_xBP"
      },
      "execution_count": null,
      "outputs": []
    },
    {
      "cell_type": "code",
      "source": [
        "!ps -aux | grep \"python\"\n",
        "# !kill -9 7507    "
      ],
      "metadata": {
        "id": "pfsB6JV39qQO"
      },
      "execution_count": null,
      "outputs": []
    }
  ]
}